{
 "cells": [
  {
   "cell_type": "markdown",
   "metadata": {},
   "source": [
    "____\n",
    "## Anomaly Detection\n",
    "____"
   ]
  },
  {
   "cell_type": "markdown",
   "metadata": {},
   "source": [
    "### We assumed the following Processes are running on a System maintaining Normal Behaviour\n",
    " \n",
    "\n",
    "| Process          | Max CPU Usage (%) | Max RAM Usage (MB) |\n",
    "|------------------|-------------------|--------------------|\n",
    "| Search           | 1                 | 1                  |\n",
    "| Service Host     | 0.5               | 30                 |\n",
    "| Runtime Service  | 15                | 200                |\n",
    "| Application      | 70                | 4096               |\n",
    "| Sync Service     | 0.7               | 20                 |\n",
    "| Network Host     | 5                 | 50                 |\n",
    "| Client Server    | 30                | 150                |\n",
    "| Container        | 2                 | 100                |\n",
    "| Train            | 99                | 10240              |\n"
   ]
  },
  {
   "cell_type": "markdown",
   "metadata": {},
   "source": [
    ">Note: This is not in actual scene but assumed for generating the Synthetic Data for Training the ML model."
   ]
  },
  {
   "cell_type": "markdown",
   "metadata": {},
   "source": [
    "#### Importing the Libraries"
   ]
  },
  {
   "cell_type": "code",
   "execution_count": 1,
   "metadata": {},
   "outputs": [],
   "source": [
    "import pandas as pd\n",
    "import random"
   ]
  },
  {
   "cell_type": "markdown",
   "metadata": {},
   "source": [
    "#### Generating the synthetic data for ML model training"
   ]
  },
  {
   "cell_type": "code",
   "execution_count": 9,
   "metadata": {},
   "outputs": [
    {
     "name": "stdout",
     "output_type": "stream",
     "text": [
      "Data Sucessfully Generated with {rows} rows\n"
     ]
    }
   ],
   "source": [
    "# Define process names and their normal behavior limits\n",
    "processes = ['Search', 'Service Host', 'Runtime Service', 'Application', \n",
    "             'Sync Service', 'Network Host', 'Client Server', 'Container', 'Train']\n",
    "\n",
    "normal_limits = {\n",
    "    'Search': {'max_cpu_usage': 1, 'max_ram_usage': 1},\n",
    "    'Service Host': {'max_cpu_usage': 0.5, 'max_ram_usage': 30},\n",
    "    'Runtime Service': {'max_cpu_usage': 15, 'max_ram_usage': 200},\n",
    "    'Application': {'max_cpu_usage': 70, 'max_ram_usage': 4096},\n",
    "    'Sync Service': {'max_cpu_usage': 0.7, 'max_ram_usage': 20},\n",
    "    'Network Host': {'max_cpu_usage': 5, 'max_ram_usage': 50},\n",
    "    'Client Server': {'max_cpu_usage': 30, 'max_ram_usage': 150},\n",
    "    'Container': {'max_cpu_usage': 2, 'max_ram_usage': 100},\n",
    "    'Train': {'max_cpu_usage': 99, 'max_ram_usage': 10240}\n",
    "}\n",
    "\n",
    "# Generate synthetic data\n",
    "rows = 4000\n",
    "data = []\n",
    "for _ in range(rows):\n",
    "    process = random.choice(processes)\n",
    "    max_cpu_usage = round(random.uniform(normal_limits[process]['max_cpu_usage'], normal_limits[process]['max_cpu_usage'] * 2), 2)\n",
    "    max_ram_usage = round(random.uniform(normal_limits[process]['max_ram_usage'], normal_limits[process]['max_ram_usage'] * 2), 2)\n",
    "    \n",
    "    # Determine behavior\n",
    "    if random.random() < 0.5:  # 50% chance for abnormal behavior\n",
    "        max_cpu_usage *= round(random.uniform(2, 4),2)  # Increase CPU usage\n",
    "        max_ram_usage *= round(random.uniform(2, 4),2)  # Increase RAM usage\n",
    "        behaviour = 'Abnormal'\n",
    "    else:\n",
    "        behaviour = 'Normal'\n",
    "    \n",
    "    data.append([process, round(max_cpu_usage,2), round(max_ram_usage), behaviour])\n",
    "\n",
    "# Create a DataFrame\n",
    "df = pd.DataFrame(data, columns=['Process', 'max_cpu_usage', 'max_ram_usage', 'Behaviour'])\n",
    "\n",
    "# Save the DataFrame to an Excel file\n",
    "df.to_excel('synthetic_data_for_anomaly_detection.xlsx', index=False)\n",
    "print(\"Data Sucessfully Generated with {rows} rows\")\n"
   ]
  },
  {
   "cell_type": "markdown",
   "metadata": {},
   "source": [
    "### Training the ML model using RandomForest Classifier"
   ]
  },
  {
   "cell_type": "code",
   "execution_count": 1,
   "metadata": {},
   "outputs": [],
   "source": [
    "import pandas as pd\n",
    "from sklearn.model_selection import train_test_split\n",
    "from sklearn.ensemble import RandomForestClassifier\n",
    "import joblib"
   ]
  },
  {
   "cell_type": "code",
   "execution_count": 3,
   "metadata": {},
   "outputs": [
    {
     "name": "stdout",
     "output_type": "stream",
     "text": [
      "Training Accuracy: 0.9990625\n",
      "Testing Accuracy: 0.90625\n"
     ]
    },
    {
     "data": {
      "text/plain": [
       "['anomaly_model.pkl']"
      ]
     },
     "execution_count": 3,
     "metadata": {},
     "output_type": "execute_result"
    }
   ],
   "source": [
    "# Load the synthetic data\n",
    "df = pd.read_excel('synthetic_data_for_anomaly_detection.xlsx')\n",
    "\n",
    "# Split the data into features and target\n",
    "X = df[['max_cpu_usage', 'max_ram_usage']]\n",
    "y = df['Behaviour']\n",
    "\n",
    "# Split the data into training and testing sets\n",
    "X_train, X_test, y_train, y_test = train_test_split(X, y, test_size=0.2, random_state=42)\n",
    "\n",
    "# Train a simple Random Forest classifier\n",
    "clf = RandomForestClassifier(n_estimators=100, random_state=42)\n",
    "clf.fit(X_train, y_train)\n",
    "\n",
    "# Evaluate the model\n",
    "train_accuracy = clf.score(X_train, y_train)\n",
    "test_accuracy = clf.score(X_test, y_test)\n",
    "\n",
    "print(f\"Training Accuracy: {train_accuracy}\")\n",
    "print(f\"Testing Accuracy: {test_accuracy}\")\n",
    "\n",
    "# Save the trained model\n",
    "joblib.dump(clf, 'anomaly_model.pkl')\n"
   ]
  },
  {
   "cell_type": "markdown",
   "metadata": {},
   "source": [
    "### Inferencing the sample output"
   ]
  },
  {
   "cell_type": "code",
   "execution_count": 4,
   "metadata": {},
   "outputs": [
    {
     "name": "stdout",
     "output_type": "stream",
     "text": [
      "Custom Data 1: Predicted Behaviour - Abnormal\n",
      "Custom Data 2: Predicted Behaviour - Normal\n",
      "Custom Data 3: Predicted Behaviour - Normal\n"
     ]
    }
   ],
   "source": [
    "import pandas as pd\n",
    "import joblib\n",
    "\n",
    "# Load the saved model\n",
    "clf = joblib.load('anomaly_model.pkl')\n",
    "\n",
    "# Define custom data for inference\n",
    "custom_data = pd.DataFrame({'max_cpu_usage': [20.5, 90.2, 1.8],\n",
    "                            'max_ram_usage': [150, 4000, 25.6]})\n",
    "\n",
    "# Make inference with the custom data\n",
    "predictions = clf.predict(custom_data)\n",
    "\n",
    "# Display the predictions\n",
    "for idx, pred in enumerate(predictions):\n",
    "    print(f\"Custom Data {idx + 1}: Predicted Behaviour - {pred}\")\n"
   ]
  }
 ],
 "metadata": {
  "kernelspec": {
   "display_name": "Python 3",
   "language": "python",
   "name": "python3"
  },
  "language_info": {
   "codemirror_mode": {
    "name": "ipython",
    "version": 3
   },
   "file_extension": ".py",
   "mimetype": "text/x-python",
   "name": "python",
   "nbconvert_exporter": "python",
   "pygments_lexer": "ipython3",
   "version": "3.10.2"
  }
 },
 "nbformat": 4,
 "nbformat_minor": 2
}
